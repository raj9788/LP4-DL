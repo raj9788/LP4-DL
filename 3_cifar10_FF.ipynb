{
 "cells": [
  {
   "cell_type": "code",
   "execution_count": 4,
   "id": "3d61e1ef-6a4c-42f9-931e-a15566eab4bf",
   "metadata": {},
   "outputs": [],
   "source": [
    "import numpy as np\n",
    "import pandas as pd\n",
    "import tensorflow as tf\n",
    "from tensorflow.keras.layers import Dense, Flatten, Dropout, BatchNormalization\n",
    "from tensorflow.keras.models import Sequential\n",
    "from tensorflow.keras.utils import to_categorical\n",
    "import matplotlib.pyplot as plt"
   ]
  },
  {
   "cell_type": "code",
   "execution_count": 5,
   "id": "613637f2-10a6-4a79-8110-92ce7293b3ff",
   "metadata": {},
   "outputs": [],
   "source": [
    "train = pd.read_csv(\"CIFR(Ass2&3)/train_data.csv\")\n",
    "test = pd.read_csv('CIFR(ASS2&3)/test_data.csv')"
   ]
  },
  {
   "cell_type": "code",
   "execution_count": 6,
   "id": "5c5425d2-6e72-4d1f-9bcc-9be407714dbb",
   "metadata": {},
   "outputs": [
    {
     "name": "stdout",
     "output_type": "stream",
     "text": [
      "   pixel_0  pixel_1  pixel_2  pixel_3  pixel_4  pixel_5  pixel_6  pixel_7  \\\n",
      "0       59       62       63       43       46       45       50       48   \n",
      "1      154      177      187      126      137      136      105      104   \n",
      "2      255      255      255      253      253      253      253      253   \n",
      "3       28       25       10       37       34       19       38       35   \n",
      "4      170      180      198      168      178      196      177      185   \n",
      "\n",
      "   pixel_8  pixel_9  ...  pixel_3063  pixel_3064  pixel_3065  pixel_3066  \\\n",
      "0       43       68  ...         216         184         140         151   \n",
      "1       95      102  ...         143         133         139         143   \n",
      "2      253      253  ...          78          85          83          79   \n",
      "3       20       42  ...          54          47          28          63   \n",
      "4      203      183  ...          75          79          82          71   \n",
      "\n",
      "   pixel_3067  pixel_3068  pixel_3069  pixel_3070  pixel_3071  label  \n",
      "0         118          84         123          92          72      6  \n",
      "1         134         142         143         133         144      9  \n",
      "2          85          83          80          86          84      9  \n",
      "3          56          37          72          65          46      4  \n",
      "4          75          78          73          77          80      1  \n",
      "\n",
      "[5 rows x 3073 columns]\n",
      "   pixel_0  pixel_1  pixel_2  pixel_3  pixel_4  pixel_5  pixel_6  pixel_7  \\\n",
      "0      158      112       49      159      111       47      165      116   \n",
      "1      235      235      235      231      231      231      232      232   \n",
      "2      158      190      222      158      187      218      139      166   \n",
      "3      155      156      149      167      176      187      176      179   \n",
      "4       65       68       50       70       81       64       48       64   \n",
      "\n",
      "   pixel_8  pixel_9  ...  pixel_3063  pixel_3064  pixel_3065  pixel_3066  \\\n",
      "0       51      166  ...          24          77         124          34   \n",
      "1      232      232  ...         168         183         178         180   \n",
      "2      194      132  ...           5           6           8           4   \n",
      "3      193      190  ...          60          63          50          64   \n",
      "4       46       30  ...         143         179         136         154   \n",
      "\n",
      "   pixel_3067  pixel_3068  pixel_3069  pixel_3070  pixel_3071  label  \n",
      "0          84         129          21          67         110      3  \n",
      "1         195         191         186         200         199      8  \n",
      "2           5           3           7           8           7      8  \n",
      "3          65          52          73          68          50      0  \n",
      "4         185         146         128         156         117      6  \n",
      "\n",
      "[5 rows x 3073 columns]\n",
      "(50000, 3073)\n",
      "10\n"
     ]
    }
   ],
   "source": [
    "print(train.head())\n",
    "print(test.head())\n",
    "print(train.shape)\n",
    "print(len(set(train['label'])))"
   ]
  },
  {
   "cell_type": "code",
   "execution_count": 7,
   "id": "89204273-43f7-4289-a928-99b8f33b3ac3",
   "metadata": {},
   "outputs": [
    {
     "data": {
      "text/plain": [
       "(50000, 3072)"
      ]
     },
     "execution_count": 7,
     "metadata": {},
     "output_type": "execute_result"
    }
   ],
   "source": [
    "x_train=train.drop(['label'],axis=1)\n",
    "y_train=train['label']\n",
    "x_train=x_train/255.0\n",
    "x_train.shape\n"
   ]
  },
  {
   "cell_type": "code",
   "execution_count": 8,
   "id": "45048cd9-b401-44ec-8636-2c36f958a727",
   "metadata": {},
   "outputs": [
    {
     "name": "stdout",
     "output_type": "stream",
     "text": [
      "Model: \"sequential\"\n",
      "_________________________________________________________________\n",
      " Layer (type)                Output Shape              Param #   \n",
      "=================================================================\n",
      " dense (Dense)               (None, 128)               393344    \n",
      "                                                                 \n",
      " dense_1 (Dense)             (None, 64)                8256      \n",
      "                                                                 \n",
      " dense_2 (Dense)             (None, 32)                2080      \n",
      "                                                                 \n",
      " dropout (Dropout)           (None, 32)                0         \n",
      "                                                                 \n",
      " dense_3 (Dense)             (None, 10)                330       \n",
      "                                                                 \n",
      "=================================================================\n",
      "Total params: 404010 (1.54 MB)\n",
      "Trainable params: 404010 (1.54 MB)\n",
      "Non-trainable params: 0 (0.00 Byte)\n",
      "_________________________________________________________________\n"
     ]
    }
   ],
   "source": [
    "model = Sequential()\n",
    "\n",
    "model.add(Dense(128,activation='relu', input_shape=(3072,)))\n",
    "model.add(Dense(64,activation='relu', input_shape=(3072,)))\n",
    "model.add(Dense(32,activation='relu', input_shape=(3072,)))\n",
    "model.add(Dropout(0.2))\n",
    "model.add(Dense(10,activation='softmax'))\n",
    "model.compile(optimizer='adam',loss='sparse_categorical_crossentropy',metrics=['accuracy'])\n",
    "model.summary()"
   ]
  },
  {
   "cell_type": "code",
   "execution_count": 9,
   "id": "39b75b11-4755-42ba-b295-fbe1c00705a6",
   "metadata": {},
   "outputs": [
    {
     "name": "stdout",
     "output_type": "stream",
     "text": [
      "Epoch 1/11\n",
      "79/79 [==============================] - 2s 19ms/step - loss: 2.1713 - accuracy: 0.1902 - val_loss: 2.0651 - val_accuracy: 0.2327\n",
      "Epoch 2/11\n",
      "79/79 [==============================] - 1s 14ms/step - loss: 1.9783 - accuracy: 0.2695 - val_loss: 1.8709 - val_accuracy: 0.3326\n",
      "Epoch 3/11\n",
      "79/79 [==============================] - 1s 15ms/step - loss: 1.8660 - accuracy: 0.3227 - val_loss: 1.8444 - val_accuracy: 0.3438\n",
      "Epoch 4/11\n",
      "79/79 [==============================] - 1s 14ms/step - loss: 1.8076 - accuracy: 0.3472 - val_loss: 1.7598 - val_accuracy: 0.3621\n",
      "Epoch 5/11\n",
      "79/79 [==============================] - 1s 15ms/step - loss: 1.7621 - accuracy: 0.3642 - val_loss: 1.7273 - val_accuracy: 0.3800\n",
      "Epoch 6/11\n",
      "79/79 [==============================] - 1s 14ms/step - loss: 1.7253 - accuracy: 0.3761 - val_loss: 1.6895 - val_accuracy: 0.3962\n",
      "Epoch 7/11\n",
      "79/79 [==============================] - 1s 14ms/step - loss: 1.6871 - accuracy: 0.3947 - val_loss: 1.6516 - val_accuracy: 0.4093\n",
      "Epoch 8/11\n",
      "79/79 [==============================] - 1s 14ms/step - loss: 1.6816 - accuracy: 0.3950 - val_loss: 1.6627 - val_accuracy: 0.4001\n",
      "Epoch 9/11\n",
      "79/79 [==============================] - 1s 14ms/step - loss: 1.6481 - accuracy: 0.4083 - val_loss: 1.6898 - val_accuracy: 0.4021\n",
      "Epoch 10/11\n",
      "79/79 [==============================] - 1s 15ms/step - loss: 1.6493 - accuracy: 0.4063 - val_loss: 1.6309 - val_accuracy: 0.4176\n",
      "Epoch 11/11\n",
      "79/79 [==============================] - 1s 13ms/step - loss: 1.6077 - accuracy: 0.4257 - val_loss: 1.6152 - val_accuracy: 0.4257\n"
     ]
    }
   ],
   "source": [
    "history=model.fit(x_train,y_train,validation_split=0.2,epochs=11,batch_size=512)"
   ]
  },
  {
   "cell_type": "code",
   "execution_count": 14,
   "id": "bcbe6bb0-d6e4-465d-85c2-ec9c640f0c1c",
   "metadata": {},
   "outputs": [
    {
     "name": "stdout",
     "output_type": "stream",
     "text": [
      "313/313 [==============================] - 1s 3ms/step\n"
     ]
    }
   ],
   "source": [
    "x_test=test.drop(['label'],axis=1)\n",
    "y_test=test['label']\n",
    "pred= model.predict(x_test)"
   ]
  },
  {
   "cell_type": "code",
   "execution_count": 16,
   "id": "221ec15d-4aa8-4142-83f0-209441383835",
   "metadata": {},
   "outputs": [
    {
     "name": "stdout",
     "output_type": "stream",
     "text": [
      "[[0.0000000e+00 0.0000000e+00 0.0000000e+00 ... 0.0000000e+00\n",
      "  0.0000000e+00 0.0000000e+00]\n",
      " [0.0000000e+00 0.0000000e+00 0.0000000e+00 ... 0.0000000e+00\n",
      "  1.9632190e-26 1.0000000e+00]\n",
      " [0.0000000e+00 0.0000000e+00 0.0000000e+00 ... 0.0000000e+00\n",
      "  1.0000000e+00 0.0000000e+00]\n",
      " ...\n",
      " [0.0000000e+00 0.0000000e+00 0.0000000e+00 ... 0.0000000e+00\n",
      "  0.0000000e+00 0.0000000e+00]\n",
      " [0.0000000e+00 0.0000000e+00 7.9037356e-01 ... 0.0000000e+00\n",
      "  0.0000000e+00 0.0000000e+00]\n",
      " [0.0000000e+00 0.0000000e+00 0.0000000e+00 ... 1.0000000e+00\n",
      "  0.0000000e+00 0.0000000e+00]]\n"
     ]
    }
   ],
   "source": [
    "print(pred)"
   ]
  },
  {
   "cell_type": "code",
   "execution_count": 32,
   "id": "9e3baf98-023a-4aa0-81c8-1fbd9f2380ad",
   "metadata": {},
   "outputs": [
    {
     "name": "stdout",
     "output_type": "stream",
     "text": [
      "6\n"
     ]
    },
    {
     "data": {
      "image/png": "[encoded data removed]",
      "text/plain": [
       "<Figure size 640x480 with 1 Axes>"
      ]
     },
     "metadata": {},
     "output_type": "display_data"
    }
   ],
   "source": [
    "idx=5\n",
    "x_test_val=x_test.values\n",
    "image=x_test_val[idx]\n",
    "plt.imshow(image.reshape(32,32,3))\n",
    "print(np.argmax(pred[idx]))"
   ]
  },
  {
   "cell_type": "code",
   "execution_count": 28,
   "id": "5505bcb5-f95d-45a8-a0aa-fa2f3bffc7aa",
   "metadata": {},
   "outputs": [
    {
     "name": "stdout",
     "output_type": "stream",
     "text": [
      "313/313 [==============================] - 1s 2ms/step - loss: 157.7979 - accuracy: 0.4172\n",
      "157.79788208007812\n",
      "41.71999990940094\n"
     ]
    }
   ],
   "source": [
    "loss,accuracy = model.evaluate(x_test,y_test)\n",
    "print(loss)\n",
    "print(accuracy*100)"
   ]
  },
  {
   "cell_type": "code",
   "execution_count": 33,
   "id": "6286bab8-d269-40b7-97ca-3bde7dbddfbd",
   "metadata": {},
   "outputs": [
    {
     "data": {
      "image/png": "[encoded data removed]",
      "text/plain": [
       "<Figure size 640x480 with 1 Axes>"
      ]
     },
     "metadata": {},
     "output_type": "display_data"
    }
   ],
   "source": [
    "plt.plot(history.history['accuracy'],label='accuracy')\n",
    "plt.plot(history.history['val_accuracy'],label='val accuracy')\n",
    "plt.legend()\n",
    "plt.show()"
   ]
  },
  {
   "cell_type": "code",
   "execution_count": null,
   "id": "0483ce8a-5f75-4e66-845e-1d1e6b552bfb",
   "metadata": {},
   "outputs": [],
   "source": []
  },
  {
   "cell_type": "code",
   "execution_count": null,
   "id": "d6278432-8bec-40f6-975b-fdd0d2acc7d2",
   "metadata": {},
   "outputs": [],
   "source": []
  },
  {
   "cell_type": "code",
   "execution_count": null,
   "id": "22383379-0ca2-46d9-84d8-9df28d0745de",
   "metadata": {},
   "outputs": [],
   "source": []
  },
  {
   "cell_type": "code",
   "execution_count": null,
   "id": "10d4737d-9697-4b45-bd02-8f8896269498",
   "metadata": {},
   "outputs": [],
   "source": []
  }
 ],
 "metadata": {
  "kernelspec": {
   "display_name": "Python 3 (ipykernel)",
   "language": "python",
   "name": "python3"
  },
  "language_info": {
   "codemirror_mode": {
    "name": "ipython",
    "version": 3
   },
   "file_extension": ".py",
   "mimetype": "text/x-python",
   "name": "python",
   "nbconvert_exporter": "python",
   "pygments_lexer": "ipython3",
   "version": "3.11.4"
  }
 },
 "nbformat": 4,
 "nbformat_minor": 5
}
