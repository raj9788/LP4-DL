{
 "cells": [
  {
   "cell_type": "code",
   "execution_count": 1,
   "id": "ee9efb8a-0ca1-438e-8543-65b2f88923a4",
   "metadata": {},
   "outputs": [],
   "source": [
    "import tensorflow as tf\n",
    "from tensorflow import keras\n",
    "import numpy as np\n",
    "from tensorflow.keras.preprocessing.image import ImageDataGenerator"
   ]
  },
  {
   "cell_type": "code",
   "execution_count": 2,
   "id": "df1374ef-211a-4adf-83c3-dcbc75caad5a",
   "metadata": {},
   "outputs": [
    {
     "name": "stdout",
     "output_type": "stream",
     "text": [
      "Found 9144 images belonging to 102 classes.\n"
     ]
    }
   ],
   "source": [
    "dataset_dir=\"Object Detection(Ass6)/caltech-101-img\"\n",
    "dataset_datagen= ImageDataGenerator(\n",
    "    rescale = 1.0/255,\n",
    ")\n",
    "batch_size=2000\n",
    "dataset_generator = dataset_datagen.flow_from_directory(\n",
    "    dataset_dir,\n",
    "    target_size=(64,64),\n",
    "    batch_size=batch_size,\n",
    "    class_mode='categorical'\n",
    ")"
   ]
  },
  {
   "cell_type": "code",
   "execution_count": 3,
   "id": "9cd4b8fb-7e2c-4241-841a-22c1dd8d35d9",
   "metadata": {},
   "outputs": [],
   "source": [
    "x_train,y_train = dataset_generator[0]\n",
    "x_test,y_test = dataset_generator[1]"
   ]
  },
  {
   "cell_type": "code",
   "execution_count": 4,
   "id": "70d7972d-dfb5-4184-8566-82410e0c990e",
   "metadata": {},
   "outputs": [
    {
     "name": "stdout",
     "output_type": "stream",
     "text": [
      "2000\n",
      "2000\n"
     ]
    }
   ],
   "source": [
    "print(len(x_train))\n",
    "print(len(x_test))"
   ]
  },
  {
   "cell_type": "code",
   "execution_count": 17,
   "id": "4abe3f6e-b919-4f82-9509-a10cb8d95954",
   "metadata": {},
   "outputs": [],
   "source": [
    "from tensorflow.keras.layers import Dense, Flatten\n",
    "from tensorflow.keras.models import Sequential, Model\n",
    "from tensorflow.keras.optimizers import Adam\n"
   ]
  },
  {
   "cell_type": "code",
   "execution_count": 6,
   "id": "24edba61-942c-48a4-9745-fa06fc98942a",
   "metadata": {},
   "outputs": [],
   "source": [
    "from tensorflow.keras.applications import VGG16"
   ]
  },
  {
   "cell_type": "code",
   "execution_count": 7,
   "id": "4abd775a-3d88-412d-a41d-4770c86637b6",
   "metadata": {},
   "outputs": [],
   "source": [
    "weights_path=\"Object Detection(Ass6)/vgg16_weights_tf_dim_ordering_tf_kernels_notop.h5\"\n",
    "base_model = VGG16(weights=weights_path,include_top=False,input_shape=(64,64,3))"
   ]
  },
  {
   "cell_type": "code",
   "execution_count": 9,
   "id": "92229844-5507-4316-94dc-dedaa45aaa14",
   "metadata": {},
   "outputs": [],
   "source": [
    "for layer in base_model.layers:\n",
    "    layer.trainable=False"
   ]
  },
  {
   "cell_type": "code",
   "execution_count": 18,
   "id": "53fad8f5-a002-417d-980b-9fc3580e7dd9",
   "metadata": {},
   "outputs": [],
   "source": [
    "x = Flatten()(base_model.output)\n",
    "# Explanation: This line adds a Flatten layer to the output of the base_model. The Flatten layer is used to transform the 3D tensor output from the convolutional base (which is usually the output of the last convolutional layer) into a 1D tensor. This flattening step is necessary when transitioning from convolutional layers to densely connected layers.\n",
    "# Example: Suppose the output shape of base_model is (7, 7, 512). This means you have a 3D tensor with dimensions 7x7x512. Applying the Flatten layer converts this 3D tensor into a 1D tensor by unraveling the values along the dimensions. In this case, the resulting 1D tensor would have a size of 7 * 7 * 512 = 25088.\n",
    "x = Dense(64, activation='relu')(x)\n",
    "predictions = Dense(102, activation='softmax')(x)\n",
    "\n",
    "# Create the model\n",
    "model = Model(inputs=base_model.input, outputs=predictions)\n",
    "# Compile the model\n",
    "model.compile(optimizer=\"adam\", loss='categorical_crossentropy', metrics=['accuracy'])"
   ]
  },
  {
   "cell_type": "code",
   "execution_count": 19,
   "id": "079dfb89-b1c5-4b62-9585-a05c531d377c",
   "metadata": {},
   "outputs": [
    {
     "name": "stdout",
     "output_type": "stream",
     "text": [
      "Epoch 1/10\n",
      "32/32 [==============================] - 8s 233ms/step - loss: 3.9884 - accuracy: 0.1895\n",
      "Epoch 2/10\n",
      "32/32 [==============================] - 8s 242ms/step - loss: 3.0189 - accuracy: 0.3730\n",
      "Epoch 3/10\n",
      "32/32 [==============================] - 8s 244ms/step - loss: 2.5049 - accuracy: 0.4630\n",
      "Epoch 4/10\n",
      "32/32 [==============================] - 8s 254ms/step - loss: 2.0952 - accuracy: 0.5390\n",
      "Epoch 5/10\n",
      "32/32 [==============================] - 8s 258ms/step - loss: 1.7866 - accuracy: 0.6125\n",
      "Epoch 6/10\n",
      "32/32 [==============================] - 8s 253ms/step - loss: 1.5357 - accuracy: 0.6650\n",
      "Epoch 7/10\n",
      "32/32 [==============================] - 8s 255ms/step - loss: 1.3302 - accuracy: 0.7070\n",
      "Epoch 8/10\n",
      "32/32 [==============================] - 8s 256ms/step - loss: 1.1614 - accuracy: 0.7575\n",
      "Epoch 9/10\n",
      "32/32 [==============================] - 8s 253ms/step - loss: 1.0240 - accuracy: 0.7880\n",
      "Epoch 10/10\n",
      "32/32 [==============================] - 8s 255ms/step - loss: 0.9150 - accuracy: 0.8115\n"
     ]
    },
    {
     "data": {
      "text/plain": [
       "<keras.src.callbacks.History at 0x2173e1652d0>"
      ]
     },
     "execution_count": 19,
     "metadata": {},
     "output_type": "execute_result"
    }
   ],
   "source": [
    "model.fit(x_train,y_train,batch_size=64,epochs=10)"
   ]
  },
  {
   "cell_type": "code",
   "execution_count": 26,
   "id": "d9ebd88e-aff8-4bff-8bbb-2dd1bb04a606",
   "metadata": {},
   "outputs": [
    {
     "name": "stdout",
     "output_type": "stream",
     "text": [
      "Epoch 1/20\n",
      "32/32 [==============================] - 17s 527ms/step - loss: 3.2204 - accuracy: 0.3365 - val_loss: 2.3892 - val_accuracy: 0.4735\n",
      "Epoch 2/20\n",
      "32/32 [==============================] - 17s 545ms/step - loss: 1.9069 - accuracy: 0.5410 - val_loss: 1.9797 - val_accuracy: 0.5280\n",
      "Epoch 3/20\n",
      "32/32 [==============================] - 17s 553ms/step - loss: 1.2785 - accuracy: 0.6770 - val_loss: 1.7488 - val_accuracy: 0.5835\n",
      "Epoch 4/20\n",
      "32/32 [==============================] - 17s 550ms/step - loss: 0.8018 - accuracy: 0.7855 - val_loss: 1.8201 - val_accuracy: 0.5975\n",
      "Epoch 5/20\n",
      "32/32 [==============================] - 17s 548ms/step - loss: 0.4926 - accuracy: 0.8670 - val_loss: 1.7039 - val_accuracy: 0.6155\n",
      "Epoch 6/20\n",
      "32/32 [==============================] - 17s 548ms/step - loss: 0.3511 - accuracy: 0.9005 - val_loss: 1.7284 - val_accuracy: 0.6115\n",
      "Epoch 7/20\n",
      "32/32 [==============================] - 17s 547ms/step - loss: 0.2359 - accuracy: 0.9360 - val_loss: 1.7130 - val_accuracy: 0.6320\n",
      "Epoch 8/20\n",
      "32/32 [==============================] - 17s 547ms/step - loss: 0.1704 - accuracy: 0.9535 - val_loss: 1.7641 - val_accuracy: 0.6330\n",
      "Epoch 9/20\n",
      "32/32 [==============================] - 17s 546ms/step - loss: 0.0891 - accuracy: 0.9775 - val_loss: 1.8365 - val_accuracy: 0.6480\n",
      "Epoch 10/20\n",
      "32/32 [==============================] - 18s 567ms/step - loss: 0.0490 - accuracy: 0.9890 - val_loss: 2.0203 - val_accuracy: 0.6320\n",
      "Epoch 11/20\n",
      "32/32 [==============================] - 19s 598ms/step - loss: 0.0744 - accuracy: 0.9855 - val_loss: 2.0866 - val_accuracy: 0.6030\n",
      "Epoch 12/20\n",
      "32/32 [==============================] - 19s 596ms/step - loss: 0.0543 - accuracy: 0.9870 - val_loss: 1.9576 - val_accuracy: 0.6360\n",
      "Epoch 13/20\n",
      "32/32 [==============================] - 19s 605ms/step - loss: 0.0370 - accuracy: 0.9915 - val_loss: 1.9765 - val_accuracy: 0.6315\n",
      "Epoch 14/20\n",
      "32/32 [==============================] - 19s 605ms/step - loss: 0.0298 - accuracy: 0.9950 - val_loss: 2.0408 - val_accuracy: 0.6390\n",
      "Epoch 15/20\n",
      "32/32 [==============================] - 19s 610ms/step - loss: 0.0258 - accuracy: 0.9940 - val_loss: 2.0949 - val_accuracy: 0.6355\n",
      "Epoch 16/20\n",
      "32/32 [==============================] - 19s 612ms/step - loss: 0.0174 - accuracy: 0.9965 - val_loss: 1.9751 - val_accuracy: 0.6475\n",
      "Epoch 17/20\n",
      "32/32 [==============================] - 19s 612ms/step - loss: 0.0076 - accuracy: 0.9985 - val_loss: 1.9641 - val_accuracy: 0.6520\n",
      "Epoch 18/20\n",
      "32/32 [==============================] - 19s 608ms/step - loss: 0.0043 - accuracy: 0.9995 - val_loss: 2.0388 - val_accuracy: 0.6465\n",
      "Epoch 19/20\n",
      "32/32 [==============================] - 19s 606ms/step - loss: 0.0097 - accuracy: 0.9980 - val_loss: 1.9717 - val_accuracy: 0.6490\n",
      "Epoch 20/20\n",
      "32/32 [==============================] - 19s 611ms/step - loss: 0.0091 - accuracy: 0.9990 - val_loss: 1.9897 - val_accuracy: 0.6550\n"
     ]
    },
    {
     "data": {
      "text/plain": [
       "<keras.src.callbacks.History at 0x217515e3e50>"
      ]
     },
     "execution_count": 26,
     "metadata": {},
     "output_type": "execute_result"
    }
   ],
   "source": [
    "base_model = VGG16(weights=weights_path, include_top=False, input_shape=(64, 64, 3))\n",
    "# freeze all layers first\n",
    "for layer in base_model.layers:\n",
    "   layer.trainable = False\n",
    "# unfreeze last 4 layers of base model\n",
    "for layer in base_model.layers[len(base_model.layers) - 2:]:\n",
    "   layer.trainable = True\n",
    "# fine-tuning hyper parameters\n",
    "x = Flatten()(base_model.output)\n",
    "x = Dense(512, activation='relu')(x)\n",
    "x = tf.keras.layers.Dropout(0.3)(x)\n",
    "predictions = Dense(102, activation='softmax')(x)\n",
    "\n",
    "# Create the model\n",
    "model = Model(inputs=base_model.input, outputs=predictions)\n",
    "# Compile the model\n",
    "model.compile(optimizer=Adam(learning_rate=0.001), loss='categorical_crossentropy', metrics=['accuracy'])\n",
    "# training fine tuned model\n",
    "model.fit(x_train, y_train, batch_size=64, epochs=20, validation_data=(x_test, y_test))"
   ]
  },
  {
   "cell_type": "code",
   "execution_count": 27,
   "id": "bce922c0-3cec-4e23-826f-81f685cfe845",
   "metadata": {},
   "outputs": [
    {
     "name": "stdout",
     "output_type": "stream",
     "text": [
      "63/63 [==============================] - 10s 153ms/step\n"
     ]
    }
   ],
   "source": [
    "import matplotlib.pyplot as plt\n",
    "pred = model.predict(x_test)"
   ]
  },
  {
   "cell_type": "code",
   "execution_count": 28,
   "id": "68cf70d8-a043-4e50-8b80-81c48428e88f",
   "metadata": {},
   "outputs": [],
   "source": [
    "labels = list(dataset_generator.class_indices.keys())"
   ]
  },
  {
   "cell_type": "code",
   "execution_count": 33,
   "id": "4f015f74-4e6e-41ec-9440-ef5affaa21b5",
   "metadata": {},
   "outputs": [
    {
     "name": "stdout",
     "output_type": "stream",
     "text": [
      "Pred :  Motorbikes\n",
      "Actual :  dolphin\n"
     ]
    },
    {
     "data": {
      "image/png": "[encoded data removed]",
      "text/plain": [
       "<Figure size 640x480 with 1 Axes>"
      ]
     },
     "metadata": {},
     "output_type": "display_data"
    }
   ],
   "source": [
    "n=0\n",
    "plt.imshow(x_test[n])\n",
    "print(\"Pred : \",labels[np.argmax(pred[n])])\n",
    "print(\"Actual : \",labels[np.argmax(y_test[n])])"
   ]
  },
  {
   "cell_type": "code",
   "execution_count": null,
   "id": "7f92021a-6ecf-4b1f-85c1-d6e37f712350",
   "metadata": {},
   "outputs": [],
   "source": []
  }
 ],
 "metadata": {
  "kernelspec": {
   "display_name": "Python 3 (ipykernel)",
   "language": "python",
   "name": "python3"
  },
  "language_info": {
   "codemirror_mode": {
    "name": "ipython",
    "version": 3
   },
   "file_extension": ".py",
   "mimetype": "text/x-python",
   "name": "python",
   "nbconvert_exporter": "python",
   "pygments_lexer": "ipython3",
   "version": "3.11.4"
  }
 },
 "nbformat": 4,
 "nbformat_minor": 5
}
